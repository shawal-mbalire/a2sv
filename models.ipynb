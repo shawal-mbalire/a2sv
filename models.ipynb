{
  "cells": [
    {
      "cell_type": "markdown",
      "source": [
        "<table class=\"tfo-notebook-buttons\" align=\"left\">\n",
        "  <td>\n",
        "    <a target=\"_blank\" href=\"https://colab.research.google.com/github/shawal-mbalire/a2sv/blob/main/models.ipynb\"><img src=\"https://quantumai.google/site-assets/images/buttons/colab_logo_1x.png\" />Run in Google Colab</a>\n",
        "  </td>\n",
        "</table>\n"
      ],
      "metadata": {
        "id": "iEmjwDPRfTSu"
      }
    },
    {
      "cell_type": "code",
      "source": [
        "!pip install opendatasets pyloras scikit-optimize"
      ],
      "metadata": {
        "colab": {
          "base_uri": "https://localhost:8080/"
        },
        "collapsed": true,
        "id": "i4R8ap3N76N5",
        "outputId": "e2f83f7c-f887-419c-e78d-925888265f69"
      },
      "execution_count": 1,
      "outputs": [
        {
          "output_type": "stream",
          "name": "stdout",
          "text": [
            "Collecting opendatasets\n",
            "  Downloading opendatasets-0.1.22-py3-none-any.whl (15 kB)\n",
            "Collecting pyloras\n",
            "  Downloading pyloras-0.1.0b6-py3-none-any.whl (13 kB)\n",
            "Collecting scikit-optimize\n",
            "  Downloading scikit_optimize-0.10.2-py2.py3-none-any.whl (107 kB)\n",
            "\u001b[2K     \u001b[90m━━━━━━━━━━━━━━━━━━━━━━━━━━━━━━━━━━━━━━━━\u001b[0m \u001b[32m107.8/107.8 kB\u001b[0m \u001b[31m3.6 MB/s\u001b[0m eta \u001b[36m0:00:00\u001b[0m\n",
            "\u001b[?25hRequirement already satisfied: tqdm in /usr/local/lib/python3.10/dist-packages (from opendatasets) (4.66.4)\n",
            "Requirement already satisfied: kaggle in /usr/local/lib/python3.10/dist-packages (from opendatasets) (1.6.14)\n",
            "Requirement already satisfied: click in /usr/local/lib/python3.10/dist-packages (from opendatasets) (8.1.7)\n",
            "Requirement already satisfied: numpy>=1.17.3 in /usr/local/lib/python3.10/dist-packages (from pyloras) (1.25.2)\n",
            "Requirement already satisfied: imbalanced-learn<1.0.0 in /usr/local/lib/python3.10/dist-packages (from pyloras) (0.10.1)\n",
            "Requirement already satisfied: joblib>=0.11 in /usr/local/lib/python3.10/dist-packages (from scikit-optimize) (1.4.2)\n",
            "Collecting pyaml>=16.9 (from scikit-optimize)\n",
            "  Downloading pyaml-24.7.0-py3-none-any.whl (24 kB)\n",
            "Requirement already satisfied: scipy>=1.1.0 in /usr/local/lib/python3.10/dist-packages (from scikit-optimize) (1.11.4)\n",
            "Requirement already satisfied: scikit-learn>=1.0.0 in /usr/local/lib/python3.10/dist-packages (from scikit-optimize) (1.2.2)\n",
            "Requirement already satisfied: packaging>=21.3 in /usr/local/lib/python3.10/dist-packages (from scikit-optimize) (24.1)\n",
            "Requirement already satisfied: threadpoolctl>=2.0.0 in /usr/local/lib/python3.10/dist-packages (from imbalanced-learn<1.0.0->pyloras) (3.5.0)\n",
            "Requirement already satisfied: PyYAML in /usr/local/lib/python3.10/dist-packages (from pyaml>=16.9->scikit-optimize) (6.0.1)\n",
            "Requirement already satisfied: six>=1.10 in /usr/local/lib/python3.10/dist-packages (from kaggle->opendatasets) (1.16.0)\n",
            "Requirement already satisfied: certifi>=2023.7.22 in /usr/local/lib/python3.10/dist-packages (from kaggle->opendatasets) (2024.7.4)\n",
            "Requirement already satisfied: python-dateutil in /usr/local/lib/python3.10/dist-packages (from kaggle->opendatasets) (2.8.2)\n",
            "Requirement already satisfied: requests in /usr/local/lib/python3.10/dist-packages (from kaggle->opendatasets) (2.31.0)\n",
            "Requirement already satisfied: python-slugify in /usr/local/lib/python3.10/dist-packages (from kaggle->opendatasets) (8.0.4)\n",
            "Requirement already satisfied: urllib3 in /usr/local/lib/python3.10/dist-packages (from kaggle->opendatasets) (2.0.7)\n",
            "Requirement already satisfied: bleach in /usr/local/lib/python3.10/dist-packages (from kaggle->opendatasets) (6.1.0)\n",
            "Requirement already satisfied: webencodings in /usr/local/lib/python3.10/dist-packages (from bleach->kaggle->opendatasets) (0.5.1)\n",
            "Requirement already satisfied: text-unidecode>=1.3 in /usr/local/lib/python3.10/dist-packages (from python-slugify->kaggle->opendatasets) (1.3)\n",
            "Requirement already satisfied: charset-normalizer<4,>=2 in /usr/local/lib/python3.10/dist-packages (from requests->kaggle->opendatasets) (3.3.2)\n",
            "Requirement already satisfied: idna<4,>=2.5 in /usr/local/lib/python3.10/dist-packages (from requests->kaggle->opendatasets) (3.7)\n",
            "Installing collected packages: pyaml, scikit-optimize, opendatasets, pyloras\n",
            "Successfully installed opendatasets-0.1.22 pyaml-24.7.0 pyloras-0.1.0b6 scikit-optimize-0.10.2\n"
          ]
        }
      ]
    },
    {
      "cell_type": "code",
      "execution_count": 42,
      "metadata": {
        "id": "ElG28_Ur7X9L"
      },
      "outputs": [],
      "source": [
        "import numpy as np\n",
        "import pandas as pd\n",
        "import pyloras as pyl\n",
        "import seaborn as sns\n",
        "import xgboost as xgb\n",
        "import opendatasets as od\n",
        "import matplotlib.pyplot as plt\n",
        "from xgboost import XGBClassifier\n",
        "from sklearn.model_selection import train_test_split\n",
        "from sklearn.preprocessing import MinMaxScaler, StandardScaler\n",
        "from sklearn.metrics import f1_score, roc_auc_score, classification_report,roc_curve"
      ]
    },
    {
      "cell_type": "markdown",
      "source": [
        "## Loading data"
      ],
      "metadata": {
        "id": "lQU3d9v7Cu3_"
      }
    },
    {
      "cell_type": "code",
      "source": [
        "od.download(\"https://www.kaggle.com/datasets/bensalem14/sgcc-dataset\")\n"
      ],
      "metadata": {
        "colab": {
          "base_uri": "https://localhost:8080/"
        },
        "id": "Oa73Kwcu7dyS",
        "outputId": "ae7a342d-7b50-4795-fd9c-cbdd7f1561ec"
      },
      "execution_count": 3,
      "outputs": [
        {
          "output_type": "stream",
          "name": "stdout",
          "text": [
            "Please provide your Kaggle credentials to download this dataset. Learn more: http://bit.ly/kaggle-creds\n",
            "Your Kaggle username: mukiibirogers\n",
            "Your Kaggle Key: ··········\n",
            "Dataset URL: https://www.kaggle.com/datasets/bensalem14/sgcc-dataset\n",
            "Downloading sgcc-dataset.zip to ./sgcc-dataset\n"
          ]
        },
        {
          "output_type": "stream",
          "name": "stderr",
          "text": [
            "100%|██████████| 51.2M/51.2M [00:00<00:00, 160MB/s]\n"
          ]
        },
        {
          "output_type": "stream",
          "name": "stdout",
          "text": [
            "\n"
          ]
        }
      ]
    },
    {
      "cell_type": "code",
      "source": [
        "df = pd.read_csv(\"sgcc-dataset/datasetsmall.csv\")\n",
        "df.head()"
      ],
      "metadata": {
        "colab": {
          "base_uri": "https://localhost:8080/",
          "height": 256
        },
        "id": "2aVjxTQD8PrP",
        "outputId": "82d58f6b-0372-4797-9f6e-da62a7fa81a8"
      },
      "execution_count": 4,
      "outputs": [
        {
          "output_type": "execute_result",
          "data": {
            "text/plain": [
              "   01/01/2014  01/02/2014  01/03/2014  01/04/2014  01/05/2014  01/06/2014  \\\n",
              "0      2401.0      2500.0      2674.0     2432.00     2231.00     1942.00   \n",
              "1      3318.0       282.0       540.0     5670.00     4854.00     4170.00   \n",
              "2      1020.8      1097.4      1377.4     1408.80     1414.80     1387.40   \n",
              "3         0.0      1183.8      1190.4     1183.80        0.00     1154.40   \n",
              "4      1445.7      1348.2      1281.9     1276.35     1219.95     1289.85   \n",
              "\n",
              "   01/07/2014  01/08/2014  01/09/2014  01/10/2014  ...  1/19/2014  1/20/2014  \\\n",
              "0     2752.00     1244.00      2069.0      2360.0  ...    1774.00     2089.0   \n",
              "1     4848.00     3546.00      4416.0      3966.0  ...    3876.00     3228.0   \n",
              "2     1444.60     1325.00      1461.6      1253.2  ...    1214.60     1285.4   \n",
              "3     1166.40     1183.80      1169.4      1174.2  ...       0.00     1072.8   \n",
              "4     1298.55     1326.15      1410.6      1376.7  ...    1331.85     1392.9   \n",
              "\n",
              "   1/21/2014  1/22/2014  1/23/2014  1/24/2014  1/25/2014  1/26/2014  \\\n",
              "0     1300.0     2419.0     2462.0    1177.00     340.00    2272.00   \n",
              "1     3054.0     3840.0     1422.0    1956.00    1380.00      96.00   \n",
              "2     1279.6     1188.6     1362.6    1286.00    1267.60    1444.00   \n",
              "3     1090.8     1090.2     1101.0    1079.40    1121.40    1145.40   \n",
              "4     1213.2     1463.1     1405.5    1240.05    1190.25    1455.45   \n",
              "\n",
              "                            CONS_NO  FLAG  \n",
              "0  A0E791400CF1C48C43DC26A68227854A     1  \n",
              "1  B415F931D3BFB17ACEF48BC648B04FC2     1  \n",
              "2  DE8E1EAE4E578C0CEF92D1E23499888F     1  \n",
              "3  2952491E940C9040B188B3C9095910D6     0  \n",
              "4  DBEED8FD0E7F5E0D1BAF1F86F4983459     1  \n",
              "\n",
              "[5 rows x 28 columns]"
            ],
            "text/html": [
              "\n",
              "  <div id=\"df-685394cd-4176-4282-b719-0bfc14c80408\" class=\"colab-df-container\">\n",
              "    <div>\n",
              "<style scoped>\n",
              "    .dataframe tbody tr th:only-of-type {\n",
              "        vertical-align: middle;\n",
              "    }\n",
              "\n",
              "    .dataframe tbody tr th {\n",
              "        vertical-align: top;\n",
              "    }\n",
              "\n",
              "    .dataframe thead th {\n",
              "        text-align: right;\n",
              "    }\n",
              "</style>\n",
              "<table border=\"1\" class=\"dataframe\">\n",
              "  <thead>\n",
              "    <tr style=\"text-align: right;\">\n",
              "      <th></th>\n",
              "      <th>01/01/2014</th>\n",
              "      <th>01/02/2014</th>\n",
              "      <th>01/03/2014</th>\n",
              "      <th>01/04/2014</th>\n",
              "      <th>01/05/2014</th>\n",
              "      <th>01/06/2014</th>\n",
              "      <th>01/07/2014</th>\n",
              "      <th>01/08/2014</th>\n",
              "      <th>01/09/2014</th>\n",
              "      <th>01/10/2014</th>\n",
              "      <th>...</th>\n",
              "      <th>1/19/2014</th>\n",
              "      <th>1/20/2014</th>\n",
              "      <th>1/21/2014</th>\n",
              "      <th>1/22/2014</th>\n",
              "      <th>1/23/2014</th>\n",
              "      <th>1/24/2014</th>\n",
              "      <th>1/25/2014</th>\n",
              "      <th>1/26/2014</th>\n",
              "      <th>CONS_NO</th>\n",
              "      <th>FLAG</th>\n",
              "    </tr>\n",
              "  </thead>\n",
              "  <tbody>\n",
              "    <tr>\n",
              "      <th>0</th>\n",
              "      <td>2401.0</td>\n",
              "      <td>2500.0</td>\n",
              "      <td>2674.0</td>\n",
              "      <td>2432.00</td>\n",
              "      <td>2231.00</td>\n",
              "      <td>1942.00</td>\n",
              "      <td>2752.00</td>\n",
              "      <td>1244.00</td>\n",
              "      <td>2069.0</td>\n",
              "      <td>2360.0</td>\n",
              "      <td>...</td>\n",
              "      <td>1774.00</td>\n",
              "      <td>2089.0</td>\n",
              "      <td>1300.0</td>\n",
              "      <td>2419.0</td>\n",
              "      <td>2462.0</td>\n",
              "      <td>1177.00</td>\n",
              "      <td>340.00</td>\n",
              "      <td>2272.00</td>\n",
              "      <td>A0E791400CF1C48C43DC26A68227854A</td>\n",
              "      <td>1</td>\n",
              "    </tr>\n",
              "    <tr>\n",
              "      <th>1</th>\n",
              "      <td>3318.0</td>\n",
              "      <td>282.0</td>\n",
              "      <td>540.0</td>\n",
              "      <td>5670.00</td>\n",
              "      <td>4854.00</td>\n",
              "      <td>4170.00</td>\n",
              "      <td>4848.00</td>\n",
              "      <td>3546.00</td>\n",
              "      <td>4416.0</td>\n",
              "      <td>3966.0</td>\n",
              "      <td>...</td>\n",
              "      <td>3876.00</td>\n",
              "      <td>3228.0</td>\n",
              "      <td>3054.0</td>\n",
              "      <td>3840.0</td>\n",
              "      <td>1422.0</td>\n",
              "      <td>1956.00</td>\n",
              "      <td>1380.00</td>\n",
              "      <td>96.00</td>\n",
              "      <td>B415F931D3BFB17ACEF48BC648B04FC2</td>\n",
              "      <td>1</td>\n",
              "    </tr>\n",
              "    <tr>\n",
              "      <th>2</th>\n",
              "      <td>1020.8</td>\n",
              "      <td>1097.4</td>\n",
              "      <td>1377.4</td>\n",
              "      <td>1408.80</td>\n",
              "      <td>1414.80</td>\n",
              "      <td>1387.40</td>\n",
              "      <td>1444.60</td>\n",
              "      <td>1325.00</td>\n",
              "      <td>1461.6</td>\n",
              "      <td>1253.2</td>\n",
              "      <td>...</td>\n",
              "      <td>1214.60</td>\n",
              "      <td>1285.4</td>\n",
              "      <td>1279.6</td>\n",
              "      <td>1188.6</td>\n",
              "      <td>1362.6</td>\n",
              "      <td>1286.00</td>\n",
              "      <td>1267.60</td>\n",
              "      <td>1444.00</td>\n",
              "      <td>DE8E1EAE4E578C0CEF92D1E23499888F</td>\n",
              "      <td>1</td>\n",
              "    </tr>\n",
              "    <tr>\n",
              "      <th>3</th>\n",
              "      <td>0.0</td>\n",
              "      <td>1183.8</td>\n",
              "      <td>1190.4</td>\n",
              "      <td>1183.80</td>\n",
              "      <td>0.00</td>\n",
              "      <td>1154.40</td>\n",
              "      <td>1166.40</td>\n",
              "      <td>1183.80</td>\n",
              "      <td>1169.4</td>\n",
              "      <td>1174.2</td>\n",
              "      <td>...</td>\n",
              "      <td>0.00</td>\n",
              "      <td>1072.8</td>\n",
              "      <td>1090.8</td>\n",
              "      <td>1090.2</td>\n",
              "      <td>1101.0</td>\n",
              "      <td>1079.40</td>\n",
              "      <td>1121.40</td>\n",
              "      <td>1145.40</td>\n",
              "      <td>2952491E940C9040B188B3C9095910D6</td>\n",
              "      <td>0</td>\n",
              "    </tr>\n",
              "    <tr>\n",
              "      <th>4</th>\n",
              "      <td>1445.7</td>\n",
              "      <td>1348.2</td>\n",
              "      <td>1281.9</td>\n",
              "      <td>1276.35</td>\n",
              "      <td>1219.95</td>\n",
              "      <td>1289.85</td>\n",
              "      <td>1298.55</td>\n",
              "      <td>1326.15</td>\n",
              "      <td>1410.6</td>\n",
              "      <td>1376.7</td>\n",
              "      <td>...</td>\n",
              "      <td>1331.85</td>\n",
              "      <td>1392.9</td>\n",
              "      <td>1213.2</td>\n",
              "      <td>1463.1</td>\n",
              "      <td>1405.5</td>\n",
              "      <td>1240.05</td>\n",
              "      <td>1190.25</td>\n",
              "      <td>1455.45</td>\n",
              "      <td>DBEED8FD0E7F5E0D1BAF1F86F4983459</td>\n",
              "      <td>1</td>\n",
              "    </tr>\n",
              "  </tbody>\n",
              "</table>\n",
              "<p>5 rows × 28 columns</p>\n",
              "</div>\n",
              "    <div class=\"colab-df-buttons\">\n",
              "\n",
              "  <div class=\"colab-df-container\">\n",
              "    <button class=\"colab-df-convert\" onclick=\"convertToInteractive('df-685394cd-4176-4282-b719-0bfc14c80408')\"\n",
              "            title=\"Convert this dataframe to an interactive table.\"\n",
              "            style=\"display:none;\">\n",
              "\n",
              "  <svg xmlns=\"http://www.w3.org/2000/svg\" height=\"24px\" viewBox=\"0 -960 960 960\">\n",
              "    <path d=\"M120-120v-720h720v720H120Zm60-500h600v-160H180v160Zm220 220h160v-160H400v160Zm0 220h160v-160H400v160ZM180-400h160v-160H180v160Zm440 0h160v-160H620v160ZM180-180h160v-160H180v160Zm440 0h160v-160H620v160Z\"/>\n",
              "  </svg>\n",
              "    </button>\n",
              "\n",
              "  <style>\n",
              "    .colab-df-container {\n",
              "      display:flex;\n",
              "      gap: 12px;\n",
              "    }\n",
              "\n",
              "    .colab-df-convert {\n",
              "      background-color: #E8F0FE;\n",
              "      border: none;\n",
              "      border-radius: 50%;\n",
              "      cursor: pointer;\n",
              "      display: none;\n",
              "      fill: #1967D2;\n",
              "      height: 32px;\n",
              "      padding: 0 0 0 0;\n",
              "      width: 32px;\n",
              "    }\n",
              "\n",
              "    .colab-df-convert:hover {\n",
              "      background-color: #E2EBFA;\n",
              "      box-shadow: 0px 1px 2px rgba(60, 64, 67, 0.3), 0px 1px 3px 1px rgba(60, 64, 67, 0.15);\n",
              "      fill: #174EA6;\n",
              "    }\n",
              "\n",
              "    .colab-df-buttons div {\n",
              "      margin-bottom: 4px;\n",
              "    }\n",
              "\n",
              "    [theme=dark] .colab-df-convert {\n",
              "      background-color: #3B4455;\n",
              "      fill: #D2E3FC;\n",
              "    }\n",
              "\n",
              "    [theme=dark] .colab-df-convert:hover {\n",
              "      background-color: #434B5C;\n",
              "      box-shadow: 0px 1px 3px 1px rgba(0, 0, 0, 0.15);\n",
              "      filter: drop-shadow(0px 1px 2px rgba(0, 0, 0, 0.3));\n",
              "      fill: #FFFFFF;\n",
              "    }\n",
              "  </style>\n",
              "\n",
              "    <script>\n",
              "      const buttonEl =\n",
              "        document.querySelector('#df-685394cd-4176-4282-b719-0bfc14c80408 button.colab-df-convert');\n",
              "      buttonEl.style.display =\n",
              "        google.colab.kernel.accessAllowed ? 'block' : 'none';\n",
              "\n",
              "      async function convertToInteractive(key) {\n",
              "        const element = document.querySelector('#df-685394cd-4176-4282-b719-0bfc14c80408');\n",
              "        const dataTable =\n",
              "          await google.colab.kernel.invokeFunction('convertToInteractive',\n",
              "                                                    [key], {});\n",
              "        if (!dataTable) return;\n",
              "\n",
              "        const docLinkHtml = 'Like what you see? Visit the ' +\n",
              "          '<a target=\"_blank\" href=https://colab.research.google.com/notebooks/data_table.ipynb>data table notebook</a>'\n",
              "          + ' to learn more about interactive tables.';\n",
              "        element.innerHTML = '';\n",
              "        dataTable['output_type'] = 'display_data';\n",
              "        await google.colab.output.renderOutput(dataTable, element);\n",
              "        const docLink = document.createElement('div');\n",
              "        docLink.innerHTML = docLinkHtml;\n",
              "        element.appendChild(docLink);\n",
              "      }\n",
              "    </script>\n",
              "  </div>\n",
              "\n",
              "\n",
              "<div id=\"df-b76005b7-4073-4a52-8d4b-c6b4479368b2\">\n",
              "  <button class=\"colab-df-quickchart\" onclick=\"quickchart('df-b76005b7-4073-4a52-8d4b-c6b4479368b2')\"\n",
              "            title=\"Suggest charts\"\n",
              "            style=\"display:none;\">\n",
              "\n",
              "<svg xmlns=\"http://www.w3.org/2000/svg\" height=\"24px\"viewBox=\"0 0 24 24\"\n",
              "     width=\"24px\">\n",
              "    <g>\n",
              "        <path d=\"M19 3H5c-1.1 0-2 .9-2 2v14c0 1.1.9 2 2 2h14c1.1 0 2-.9 2-2V5c0-1.1-.9-2-2-2zM9 17H7v-7h2v7zm4 0h-2V7h2v10zm4 0h-2v-4h2v4z\"/>\n",
              "    </g>\n",
              "</svg>\n",
              "  </button>\n",
              "\n",
              "<style>\n",
              "  .colab-df-quickchart {\n",
              "      --bg-color: #E8F0FE;\n",
              "      --fill-color: #1967D2;\n",
              "      --hover-bg-color: #E2EBFA;\n",
              "      --hover-fill-color: #174EA6;\n",
              "      --disabled-fill-color: #AAA;\n",
              "      --disabled-bg-color: #DDD;\n",
              "  }\n",
              "\n",
              "  [theme=dark] .colab-df-quickchart {\n",
              "      --bg-color: #3B4455;\n",
              "      --fill-color: #D2E3FC;\n",
              "      --hover-bg-color: #434B5C;\n",
              "      --hover-fill-color: #FFFFFF;\n",
              "      --disabled-bg-color: #3B4455;\n",
              "      --disabled-fill-color: #666;\n",
              "  }\n",
              "\n",
              "  .colab-df-quickchart {\n",
              "    background-color: var(--bg-color);\n",
              "    border: none;\n",
              "    border-radius: 50%;\n",
              "    cursor: pointer;\n",
              "    display: none;\n",
              "    fill: var(--fill-color);\n",
              "    height: 32px;\n",
              "    padding: 0;\n",
              "    width: 32px;\n",
              "  }\n",
              "\n",
              "  .colab-df-quickchart:hover {\n",
              "    background-color: var(--hover-bg-color);\n",
              "    box-shadow: 0 1px 2px rgba(60, 64, 67, 0.3), 0 1px 3px 1px rgba(60, 64, 67, 0.15);\n",
              "    fill: var(--button-hover-fill-color);\n",
              "  }\n",
              "\n",
              "  .colab-df-quickchart-complete:disabled,\n",
              "  .colab-df-quickchart-complete:disabled:hover {\n",
              "    background-color: var(--disabled-bg-color);\n",
              "    fill: var(--disabled-fill-color);\n",
              "    box-shadow: none;\n",
              "  }\n",
              "\n",
              "  .colab-df-spinner {\n",
              "    border: 2px solid var(--fill-color);\n",
              "    border-color: transparent;\n",
              "    border-bottom-color: var(--fill-color);\n",
              "    animation:\n",
              "      spin 1s steps(1) infinite;\n",
              "  }\n",
              "\n",
              "  @keyframes spin {\n",
              "    0% {\n",
              "      border-color: transparent;\n",
              "      border-bottom-color: var(--fill-color);\n",
              "      border-left-color: var(--fill-color);\n",
              "    }\n",
              "    20% {\n",
              "      border-color: transparent;\n",
              "      border-left-color: var(--fill-color);\n",
              "      border-top-color: var(--fill-color);\n",
              "    }\n",
              "    30% {\n",
              "      border-color: transparent;\n",
              "      border-left-color: var(--fill-color);\n",
              "      border-top-color: var(--fill-color);\n",
              "      border-right-color: var(--fill-color);\n",
              "    }\n",
              "    40% {\n",
              "      border-color: transparent;\n",
              "      border-right-color: var(--fill-color);\n",
              "      border-top-color: var(--fill-color);\n",
              "    }\n",
              "    60% {\n",
              "      border-color: transparent;\n",
              "      border-right-color: var(--fill-color);\n",
              "    }\n",
              "    80% {\n",
              "      border-color: transparent;\n",
              "      border-right-color: var(--fill-color);\n",
              "      border-bottom-color: var(--fill-color);\n",
              "    }\n",
              "    90% {\n",
              "      border-color: transparent;\n",
              "      border-bottom-color: var(--fill-color);\n",
              "    }\n",
              "  }\n",
              "</style>\n",
              "\n",
              "  <script>\n",
              "    async function quickchart(key) {\n",
              "      const quickchartButtonEl =\n",
              "        document.querySelector('#' + key + ' button');\n",
              "      quickchartButtonEl.disabled = true;  // To prevent multiple clicks.\n",
              "      quickchartButtonEl.classList.add('colab-df-spinner');\n",
              "      try {\n",
              "        const charts = await google.colab.kernel.invokeFunction(\n",
              "            'suggestCharts', [key], {});\n",
              "      } catch (error) {\n",
              "        console.error('Error during call to suggestCharts:', error);\n",
              "      }\n",
              "      quickchartButtonEl.classList.remove('colab-df-spinner');\n",
              "      quickchartButtonEl.classList.add('colab-df-quickchart-complete');\n",
              "    }\n",
              "    (() => {\n",
              "      let quickchartButtonEl =\n",
              "        document.querySelector('#df-b76005b7-4073-4a52-8d4b-c6b4479368b2 button');\n",
              "      quickchartButtonEl.style.display =\n",
              "        google.colab.kernel.accessAllowed ? 'block' : 'none';\n",
              "    })();\n",
              "  </script>\n",
              "</div>\n",
              "\n",
              "    </div>\n",
              "  </div>\n"
            ],
            "application/vnd.google.colaboratory.intrinsic+json": {
              "type": "dataframe",
              "variable_name": "df"
            }
          },
          "metadata": {},
          "execution_count": 4
        }
      ]
    },
    {
      "cell_type": "code",
      "source": [
        "df.shape"
      ],
      "metadata": {
        "id": "2dPM_h-rCERF",
        "outputId": "aa1cc4b7-ad6f-4348-d3ae-29ab68c57e17",
        "colab": {
          "base_uri": "https://localhost:8080/"
        }
      },
      "execution_count": 5,
      "outputs": [
        {
          "output_type": "execute_result",
          "data": {
            "text/plain": [
              "(25863, 28)"
            ]
          },
          "metadata": {},
          "execution_count": 5
        }
      ]
    },
    {
      "cell_type": "code",
      "source": [
        "# dropping CONS_NO because it is irrelevant\n",
        "df.drop(columns=['CONS_NO'], inplace=True)"
      ],
      "metadata": {
        "id": "d95shAYM_Am9"
      },
      "execution_count": 6,
      "outputs": []
    },
    {
      "cell_type": "code",
      "source": [
        "# adding 0 to the header dates without 0s at the start\n",
        "new_cols=[]\n",
        "for i in df.columns:\n",
        "    if i[0]=='1':\n",
        "        new_cols.append(\"0\"+i)\n",
        "    else :\n",
        "        new_cols.append(i)\n",
        "\n",
        "df.columns=new_cols\n",
        "df.head()"
      ],
      "metadata": {
        "id": "4vXZvRIrArSA",
        "outputId": "05d8a5d3-a297-418f-aba8-2c883a87e25b",
        "colab": {
          "base_uri": "https://localhost:8080/",
          "height": 256
        }
      },
      "execution_count": 7,
      "outputs": [
        {
          "output_type": "execute_result",
          "data": {
            "text/plain": [
              "   01/01/2014  01/02/2014  01/03/2014  01/04/2014  01/05/2014  01/06/2014  \\\n",
              "0      2401.0      2500.0      2674.0     2432.00     2231.00     1942.00   \n",
              "1      3318.0       282.0       540.0     5670.00     4854.00     4170.00   \n",
              "2      1020.8      1097.4      1377.4     1408.80     1414.80     1387.40   \n",
              "3         0.0      1183.8      1190.4     1183.80        0.00     1154.40   \n",
              "4      1445.7      1348.2      1281.9     1276.35     1219.95     1289.85   \n",
              "\n",
              "   01/07/2014  01/08/2014  01/09/2014  01/10/2014  ...  01/18/2014  \\\n",
              "0     2752.00     1244.00      2069.0      2360.0  ...      2369.0   \n",
              "1     4848.00     3546.00      4416.0      3966.0  ...      3258.0   \n",
              "2     1444.60     1325.00      1461.6      1253.2  ...      1351.4   \n",
              "3     1166.40     1183.80      1169.4      1174.2  ...      1158.6   \n",
              "4     1298.55     1326.15      1410.6      1376.7  ...      1398.6   \n",
              "\n",
              "   01/19/2014  01/20/2014  01/21/2014  01/22/2014  01/23/2014  01/24/2014  \\\n",
              "0     1774.00      2089.0      1300.0      2419.0      2462.0     1177.00   \n",
              "1     3876.00      3228.0      3054.0      3840.0      1422.0     1956.00   \n",
              "2     1214.60      1285.4      1279.6      1188.6      1362.6     1286.00   \n",
              "3        0.00      1072.8      1090.8      1090.2      1101.0     1079.40   \n",
              "4     1331.85      1392.9      1213.2      1463.1      1405.5     1240.05   \n",
              "\n",
              "   01/25/2014  01/26/2014  FLAG  \n",
              "0      340.00     2272.00     1  \n",
              "1     1380.00       96.00     1  \n",
              "2     1267.60     1444.00     1  \n",
              "3     1121.40     1145.40     0  \n",
              "4     1190.25     1455.45     1  \n",
              "\n",
              "[5 rows x 27 columns]"
            ],
            "text/html": [
              "\n",
              "  <div id=\"df-814e9c25-5d79-4140-b7ff-87cb0894f200\" class=\"colab-df-container\">\n",
              "    <div>\n",
              "<style scoped>\n",
              "    .dataframe tbody tr th:only-of-type {\n",
              "        vertical-align: middle;\n",
              "    }\n",
              "\n",
              "    .dataframe tbody tr th {\n",
              "        vertical-align: top;\n",
              "    }\n",
              "\n",
              "    .dataframe thead th {\n",
              "        text-align: right;\n",
              "    }\n",
              "</style>\n",
              "<table border=\"1\" class=\"dataframe\">\n",
              "  <thead>\n",
              "    <tr style=\"text-align: right;\">\n",
              "      <th></th>\n",
              "      <th>01/01/2014</th>\n",
              "      <th>01/02/2014</th>\n",
              "      <th>01/03/2014</th>\n",
              "      <th>01/04/2014</th>\n",
              "      <th>01/05/2014</th>\n",
              "      <th>01/06/2014</th>\n",
              "      <th>01/07/2014</th>\n",
              "      <th>01/08/2014</th>\n",
              "      <th>01/09/2014</th>\n",
              "      <th>01/10/2014</th>\n",
              "      <th>...</th>\n",
              "      <th>01/18/2014</th>\n",
              "      <th>01/19/2014</th>\n",
              "      <th>01/20/2014</th>\n",
              "      <th>01/21/2014</th>\n",
              "      <th>01/22/2014</th>\n",
              "      <th>01/23/2014</th>\n",
              "      <th>01/24/2014</th>\n",
              "      <th>01/25/2014</th>\n",
              "      <th>01/26/2014</th>\n",
              "      <th>FLAG</th>\n",
              "    </tr>\n",
              "  </thead>\n",
              "  <tbody>\n",
              "    <tr>\n",
              "      <th>0</th>\n",
              "      <td>2401.0</td>\n",
              "      <td>2500.0</td>\n",
              "      <td>2674.0</td>\n",
              "      <td>2432.00</td>\n",
              "      <td>2231.00</td>\n",
              "      <td>1942.00</td>\n",
              "      <td>2752.00</td>\n",
              "      <td>1244.00</td>\n",
              "      <td>2069.0</td>\n",
              "      <td>2360.0</td>\n",
              "      <td>...</td>\n",
              "      <td>2369.0</td>\n",
              "      <td>1774.00</td>\n",
              "      <td>2089.0</td>\n",
              "      <td>1300.0</td>\n",
              "      <td>2419.0</td>\n",
              "      <td>2462.0</td>\n",
              "      <td>1177.00</td>\n",
              "      <td>340.00</td>\n",
              "      <td>2272.00</td>\n",
              "      <td>1</td>\n",
              "    </tr>\n",
              "    <tr>\n",
              "      <th>1</th>\n",
              "      <td>3318.0</td>\n",
              "      <td>282.0</td>\n",
              "      <td>540.0</td>\n",
              "      <td>5670.00</td>\n",
              "      <td>4854.00</td>\n",
              "      <td>4170.00</td>\n",
              "      <td>4848.00</td>\n",
              "      <td>3546.00</td>\n",
              "      <td>4416.0</td>\n",
              "      <td>3966.0</td>\n",
              "      <td>...</td>\n",
              "      <td>3258.0</td>\n",
              "      <td>3876.00</td>\n",
              "      <td>3228.0</td>\n",
              "      <td>3054.0</td>\n",
              "      <td>3840.0</td>\n",
              "      <td>1422.0</td>\n",
              "      <td>1956.00</td>\n",
              "      <td>1380.00</td>\n",
              "      <td>96.00</td>\n",
              "      <td>1</td>\n",
              "    </tr>\n",
              "    <tr>\n",
              "      <th>2</th>\n",
              "      <td>1020.8</td>\n",
              "      <td>1097.4</td>\n",
              "      <td>1377.4</td>\n",
              "      <td>1408.80</td>\n",
              "      <td>1414.80</td>\n",
              "      <td>1387.40</td>\n",
              "      <td>1444.60</td>\n",
              "      <td>1325.00</td>\n",
              "      <td>1461.6</td>\n",
              "      <td>1253.2</td>\n",
              "      <td>...</td>\n",
              "      <td>1351.4</td>\n",
              "      <td>1214.60</td>\n",
              "      <td>1285.4</td>\n",
              "      <td>1279.6</td>\n",
              "      <td>1188.6</td>\n",
              "      <td>1362.6</td>\n",
              "      <td>1286.00</td>\n",
              "      <td>1267.60</td>\n",
              "      <td>1444.00</td>\n",
              "      <td>1</td>\n",
              "    </tr>\n",
              "    <tr>\n",
              "      <th>3</th>\n",
              "      <td>0.0</td>\n",
              "      <td>1183.8</td>\n",
              "      <td>1190.4</td>\n",
              "      <td>1183.80</td>\n",
              "      <td>0.00</td>\n",
              "      <td>1154.40</td>\n",
              "      <td>1166.40</td>\n",
              "      <td>1183.80</td>\n",
              "      <td>1169.4</td>\n",
              "      <td>1174.2</td>\n",
              "      <td>...</td>\n",
              "      <td>1158.6</td>\n",
              "      <td>0.00</td>\n",
              "      <td>1072.8</td>\n",
              "      <td>1090.8</td>\n",
              "      <td>1090.2</td>\n",
              "      <td>1101.0</td>\n",
              "      <td>1079.40</td>\n",
              "      <td>1121.40</td>\n",
              "      <td>1145.40</td>\n",
              "      <td>0</td>\n",
              "    </tr>\n",
              "    <tr>\n",
              "      <th>4</th>\n",
              "      <td>1445.7</td>\n",
              "      <td>1348.2</td>\n",
              "      <td>1281.9</td>\n",
              "      <td>1276.35</td>\n",
              "      <td>1219.95</td>\n",
              "      <td>1289.85</td>\n",
              "      <td>1298.55</td>\n",
              "      <td>1326.15</td>\n",
              "      <td>1410.6</td>\n",
              "      <td>1376.7</td>\n",
              "      <td>...</td>\n",
              "      <td>1398.6</td>\n",
              "      <td>1331.85</td>\n",
              "      <td>1392.9</td>\n",
              "      <td>1213.2</td>\n",
              "      <td>1463.1</td>\n",
              "      <td>1405.5</td>\n",
              "      <td>1240.05</td>\n",
              "      <td>1190.25</td>\n",
              "      <td>1455.45</td>\n",
              "      <td>1</td>\n",
              "    </tr>\n",
              "  </tbody>\n",
              "</table>\n",
              "<p>5 rows × 27 columns</p>\n",
              "</div>\n",
              "    <div class=\"colab-df-buttons\">\n",
              "\n",
              "  <div class=\"colab-df-container\">\n",
              "    <button class=\"colab-df-convert\" onclick=\"convertToInteractive('df-814e9c25-5d79-4140-b7ff-87cb0894f200')\"\n",
              "            title=\"Convert this dataframe to an interactive table.\"\n",
              "            style=\"display:none;\">\n",
              "\n",
              "  <svg xmlns=\"http://www.w3.org/2000/svg\" height=\"24px\" viewBox=\"0 -960 960 960\">\n",
              "    <path d=\"M120-120v-720h720v720H120Zm60-500h600v-160H180v160Zm220 220h160v-160H400v160Zm0 220h160v-160H400v160ZM180-400h160v-160H180v160Zm440 0h160v-160H620v160ZM180-180h160v-160H180v160Zm440 0h160v-160H620v160Z\"/>\n",
              "  </svg>\n",
              "    </button>\n",
              "\n",
              "  <style>\n",
              "    .colab-df-container {\n",
              "      display:flex;\n",
              "      gap: 12px;\n",
              "    }\n",
              "\n",
              "    .colab-df-convert {\n",
              "      background-color: #E8F0FE;\n",
              "      border: none;\n",
              "      border-radius: 50%;\n",
              "      cursor: pointer;\n",
              "      display: none;\n",
              "      fill: #1967D2;\n",
              "      height: 32px;\n",
              "      padding: 0 0 0 0;\n",
              "      width: 32px;\n",
              "    }\n",
              "\n",
              "    .colab-df-convert:hover {\n",
              "      background-color: #E2EBFA;\n",
              "      box-shadow: 0px 1px 2px rgba(60, 64, 67, 0.3), 0px 1px 3px 1px rgba(60, 64, 67, 0.15);\n",
              "      fill: #174EA6;\n",
              "    }\n",
              "\n",
              "    .colab-df-buttons div {\n",
              "      margin-bottom: 4px;\n",
              "    }\n",
              "\n",
              "    [theme=dark] .colab-df-convert {\n",
              "      background-color: #3B4455;\n",
              "      fill: #D2E3FC;\n",
              "    }\n",
              "\n",
              "    [theme=dark] .colab-df-convert:hover {\n",
              "      background-color: #434B5C;\n",
              "      box-shadow: 0px 1px 3px 1px rgba(0, 0, 0, 0.15);\n",
              "      filter: drop-shadow(0px 1px 2px rgba(0, 0, 0, 0.3));\n",
              "      fill: #FFFFFF;\n",
              "    }\n",
              "  </style>\n",
              "\n",
              "    <script>\n",
              "      const buttonEl =\n",
              "        document.querySelector('#df-814e9c25-5d79-4140-b7ff-87cb0894f200 button.colab-df-convert');\n",
              "      buttonEl.style.display =\n",
              "        google.colab.kernel.accessAllowed ? 'block' : 'none';\n",
              "\n",
              "      async function convertToInteractive(key) {\n",
              "        const element = document.querySelector('#df-814e9c25-5d79-4140-b7ff-87cb0894f200');\n",
              "        const dataTable =\n",
              "          await google.colab.kernel.invokeFunction('convertToInteractive',\n",
              "                                                    [key], {});\n",
              "        if (!dataTable) return;\n",
              "\n",
              "        const docLinkHtml = 'Like what you see? Visit the ' +\n",
              "          '<a target=\"_blank\" href=https://colab.research.google.com/notebooks/data_table.ipynb>data table notebook</a>'\n",
              "          + ' to learn more about interactive tables.';\n",
              "        element.innerHTML = '';\n",
              "        dataTable['output_type'] = 'display_data';\n",
              "        await google.colab.output.renderOutput(dataTable, element);\n",
              "        const docLink = document.createElement('div');\n",
              "        docLink.innerHTML = docLinkHtml;\n",
              "        element.appendChild(docLink);\n",
              "      }\n",
              "    </script>\n",
              "  </div>\n",
              "\n",
              "\n",
              "<div id=\"df-851b0ac0-cc2a-42cf-a3bc-7932fedd7450\">\n",
              "  <button class=\"colab-df-quickchart\" onclick=\"quickchart('df-851b0ac0-cc2a-42cf-a3bc-7932fedd7450')\"\n",
              "            title=\"Suggest charts\"\n",
              "            style=\"display:none;\">\n",
              "\n",
              "<svg xmlns=\"http://www.w3.org/2000/svg\" height=\"24px\"viewBox=\"0 0 24 24\"\n",
              "     width=\"24px\">\n",
              "    <g>\n",
              "        <path d=\"M19 3H5c-1.1 0-2 .9-2 2v14c0 1.1.9 2 2 2h14c1.1 0 2-.9 2-2V5c0-1.1-.9-2-2-2zM9 17H7v-7h2v7zm4 0h-2V7h2v10zm4 0h-2v-4h2v4z\"/>\n",
              "    </g>\n",
              "</svg>\n",
              "  </button>\n",
              "\n",
              "<style>\n",
              "  .colab-df-quickchart {\n",
              "      --bg-color: #E8F0FE;\n",
              "      --fill-color: #1967D2;\n",
              "      --hover-bg-color: #E2EBFA;\n",
              "      --hover-fill-color: #174EA6;\n",
              "      --disabled-fill-color: #AAA;\n",
              "      --disabled-bg-color: #DDD;\n",
              "  }\n",
              "\n",
              "  [theme=dark] .colab-df-quickchart {\n",
              "      --bg-color: #3B4455;\n",
              "      --fill-color: #D2E3FC;\n",
              "      --hover-bg-color: #434B5C;\n",
              "      --hover-fill-color: #FFFFFF;\n",
              "      --disabled-bg-color: #3B4455;\n",
              "      --disabled-fill-color: #666;\n",
              "  }\n",
              "\n",
              "  .colab-df-quickchart {\n",
              "    background-color: var(--bg-color);\n",
              "    border: none;\n",
              "    border-radius: 50%;\n",
              "    cursor: pointer;\n",
              "    display: none;\n",
              "    fill: var(--fill-color);\n",
              "    height: 32px;\n",
              "    padding: 0;\n",
              "    width: 32px;\n",
              "  }\n",
              "\n",
              "  .colab-df-quickchart:hover {\n",
              "    background-color: var(--hover-bg-color);\n",
              "    box-shadow: 0 1px 2px rgba(60, 64, 67, 0.3), 0 1px 3px 1px rgba(60, 64, 67, 0.15);\n",
              "    fill: var(--button-hover-fill-color);\n",
              "  }\n",
              "\n",
              "  .colab-df-quickchart-complete:disabled,\n",
              "  .colab-df-quickchart-complete:disabled:hover {\n",
              "    background-color: var(--disabled-bg-color);\n",
              "    fill: var(--disabled-fill-color);\n",
              "    box-shadow: none;\n",
              "  }\n",
              "\n",
              "  .colab-df-spinner {\n",
              "    border: 2px solid var(--fill-color);\n",
              "    border-color: transparent;\n",
              "    border-bottom-color: var(--fill-color);\n",
              "    animation:\n",
              "      spin 1s steps(1) infinite;\n",
              "  }\n",
              "\n",
              "  @keyframes spin {\n",
              "    0% {\n",
              "      border-color: transparent;\n",
              "      border-bottom-color: var(--fill-color);\n",
              "      border-left-color: var(--fill-color);\n",
              "    }\n",
              "    20% {\n",
              "      border-color: transparent;\n",
              "      border-left-color: var(--fill-color);\n",
              "      border-top-color: var(--fill-color);\n",
              "    }\n",
              "    30% {\n",
              "      border-color: transparent;\n",
              "      border-left-color: var(--fill-color);\n",
              "      border-top-color: var(--fill-color);\n",
              "      border-right-color: var(--fill-color);\n",
              "    }\n",
              "    40% {\n",
              "      border-color: transparent;\n",
              "      border-right-color: var(--fill-color);\n",
              "      border-top-color: var(--fill-color);\n",
              "    }\n",
              "    60% {\n",
              "      border-color: transparent;\n",
              "      border-right-color: var(--fill-color);\n",
              "    }\n",
              "    80% {\n",
              "      border-color: transparent;\n",
              "      border-right-color: var(--fill-color);\n",
              "      border-bottom-color: var(--fill-color);\n",
              "    }\n",
              "    90% {\n",
              "      border-color: transparent;\n",
              "      border-bottom-color: var(--fill-color);\n",
              "    }\n",
              "  }\n",
              "</style>\n",
              "\n",
              "  <script>\n",
              "    async function quickchart(key) {\n",
              "      const quickchartButtonEl =\n",
              "        document.querySelector('#' + key + ' button');\n",
              "      quickchartButtonEl.disabled = true;  // To prevent multiple clicks.\n",
              "      quickchartButtonEl.classList.add('colab-df-spinner');\n",
              "      try {\n",
              "        const charts = await google.colab.kernel.invokeFunction(\n",
              "            'suggestCharts', [key], {});\n",
              "      } catch (error) {\n",
              "        console.error('Error during call to suggestCharts:', error);\n",
              "      }\n",
              "      quickchartButtonEl.classList.remove('colab-df-spinner');\n",
              "      quickchartButtonEl.classList.add('colab-df-quickchart-complete');\n",
              "    }\n",
              "    (() => {\n",
              "      let quickchartButtonEl =\n",
              "        document.querySelector('#df-851b0ac0-cc2a-42cf-a3bc-7932fedd7450 button');\n",
              "      quickchartButtonEl.style.display =\n",
              "        google.colab.kernel.accessAllowed ? 'block' : 'none';\n",
              "    })();\n",
              "  </script>\n",
              "</div>\n",
              "\n",
              "    </div>\n",
              "  </div>\n"
            ],
            "application/vnd.google.colaboratory.intrinsic+json": {
              "type": "dataframe",
              "variable_name": "df"
            }
          },
          "metadata": {},
          "execution_count": 7
        }
      ]
    },
    {
      "cell_type": "code",
      "source": [
        "df.info()"
      ],
      "metadata": {
        "id": "prY6JzSL-H3Y",
        "outputId": "f2bcae70-d6f2-422a-dcc7-1e06b8717fe5",
        "colab": {
          "base_uri": "https://localhost:8080/"
        }
      },
      "execution_count": 8,
      "outputs": [
        {
          "output_type": "stream",
          "name": "stdout",
          "text": [
            "<class 'pandas.core.frame.DataFrame'>\n",
            "RangeIndex: 25863 entries, 0 to 25862\n",
            "Data columns (total 27 columns):\n",
            " #   Column      Non-Null Count  Dtype  \n",
            "---  ------      --------------  -----  \n",
            " 0   01/01/2014  25863 non-null  float64\n",
            " 1   01/02/2014  25861 non-null  float64\n",
            " 2   01/03/2014  25858 non-null  float64\n",
            " 3   01/04/2014  25861 non-null  float64\n",
            " 4   01/05/2014  25861 non-null  float64\n",
            " 5   01/06/2014  25861 non-null  float64\n",
            " 6   01/07/2014  25860 non-null  float64\n",
            " 7   01/08/2014  25863 non-null  float64\n",
            " 8   01/09/2014  25862 non-null  float64\n",
            " 9   01/10/2014  25863 non-null  float64\n",
            " 10  01/11/2014  25862 non-null  float64\n",
            " 11  01/12/2014  25863 non-null  float64\n",
            " 12  01/13/2014  25863 non-null  float64\n",
            " 13  01/14/2014  25861 non-null  float64\n",
            " 14  01/15/2014  25859 non-null  float64\n",
            " 15  01/16/2014  25860 non-null  float64\n",
            " 16  01/17/2014  25857 non-null  float64\n",
            " 17  01/18/2014  25857 non-null  float64\n",
            " 18  01/19/2014  25857 non-null  float64\n",
            " 19  01/20/2014  25856 non-null  float64\n",
            " 20  01/21/2014  25854 non-null  float64\n",
            " 21  01/22/2014  25855 non-null  float64\n",
            " 22  01/23/2014  25845 non-null  float64\n",
            " 23  01/24/2014  25851 non-null  float64\n",
            " 24  01/25/2014  25851 non-null  float64\n",
            " 25  01/26/2014  25849 non-null  float64\n",
            " 26  FLAG        25863 non-null  int64  \n",
            "dtypes: float64(26), int64(1)\n",
            "memory usage: 5.3 MB\n"
          ]
        }
      ]
    },
    {
      "cell_type": "markdown",
      "source": [
        "## Data cleaning"
      ],
      "metadata": {
        "id": "fY7Mu4SxAjC7"
      }
    },
    {
      "cell_type": "code",
      "source": [
        "# Handling missing values using interpolation\n",
        "print(df.isna().sum().sum())"
      ],
      "metadata": {
        "id": "lYXQrg82-7hH",
        "outputId": "d736741a-80ca-4530-f7a7-1d69d7ded018",
        "colab": {
          "base_uri": "https://localhost:8080/"
        }
      },
      "execution_count": 9,
      "outputs": [
        {
          "output_type": "stream",
          "name": "stdout",
          "text": [
            "125\n"
          ]
        }
      ]
    },
    {
      "cell_type": "code",
      "source": [
        "df.interpolate(method='linear', axis=1, inplace=True)"
      ],
      "metadata": {
        "id": "XRBSkCmm_qem"
      },
      "execution_count": 10,
      "outputs": []
    },
    {
      "cell_type": "code",
      "source": [
        "# Nomalization\n",
        "scaler = MinMaxScaler()\n",
        "df_scaled = scaler.fit_transform(df)\n",
        "\n",
        "# Standardization\n",
        "scaler = StandardScaler()\n",
        "df_scaled = scaler.fit_transform(df)"
      ],
      "metadata": {
        "id": "UWJsU_E6AVx4"
      },
      "execution_count": 11,
      "outputs": []
    },
    {
      "cell_type": "code",
      "source": [
        "# plot for distribution of flag\n",
        "fig, axs = plt.subplots(figsize=(12, 5), nrows=1, ncols=2)\n",
        "\n",
        "axs = axs.flatten()\n",
        "ax1 = axs[0]\n",
        "ax2 = axs[1]\n",
        "sns.countplot(x='FLAG', data=df, ax=axs[0])\n",
        "ax1.set_title('Distribution of FLAG')\n",
        "\n",
        "class_counts = df['FLAG'].value_counts(normalize=True) * 100\n",
        "sns.barplot(x=class_counts.index, y=class_counts.values, ax=axs[1])\n",
        "ax2.set_title('Percentage of FLAG')\n",
        "ax2.set_xlabel('FLAG')\n",
        "ax2.set_ylabel('Percentage')\n",
        "plt.show();"
      ],
      "metadata": {
        "id": "F3HrsISmC-kc",
        "outputId": "b7dba692-839c-4ee8-b902-c5621ac31b12",
        "colab": {
          "base_uri": "https://localhost:8080/",
          "height": 487
        }
      },
      "execution_count": 12,
      "outputs": [
        {
          "output_type": "display_data",
          "data": {
            "text/plain": [
              "<Figure size 1200x500 with 2 Axes>"
            ],
            "image/png": "[encoded data removed]"
          },
          "metadata": {}
        }
      ]
    },
    {
      "cell_type": "markdown",
      "source": [
        "### Formating data to 14-days datasets"
      ],
      "metadata": {
        "id": "kN9GQfC7N188"
      }
    },
    {
      "cell_type": "code",
      "source": [
        "def format_data(df):\n",
        "  flag_column = df['FLAG']\n",
        "  date_columns = df.columns[:-1]\n",
        "\n",
        "  datasets = []\n",
        "\n",
        "  window_size = 14\n",
        "  for start in range(0, len(date_columns), window_size):\n",
        "      end = start + window_size\n",
        "      window_columns = date_columns[start:end]\n",
        "      window_df = df[window_columns].copy()\n",
        "      window_df['FLAG'] = flag_column\n",
        "      datasets.append(window_df)\n",
        "\n",
        "  return datasets"
      ],
      "metadata": {
        "id": "Bo-HUjAXN09v"
      },
      "execution_count": 13,
      "outputs": []
    },
    {
      "cell_type": "code",
      "source": [
        "dfs = format_data(df)"
      ],
      "metadata": {
        "id": "33eFgRjOOjgr"
      },
      "execution_count": 14,
      "outputs": []
    },
    {
      "cell_type": "markdown",
      "source": [
        "### Data balancing"
      ],
      "metadata": {
        "id": "4Wdb8pMUUZ-Z"
      }
    },
    {
      "cell_type": "code",
      "source": [
        "X_initial, y_initial = dfs[0].iloc[:, :-1], dfs[0]['FLAG']\n",
        "\n",
        "X_train_initial, X_test, y_train_initial, y_test = train_test_split(X_initial, y_initial, test_size=0.05, random_state=42)"
      ],
      "metadata": {
        "id": "035OCAdCUon1"
      },
      "execution_count": 21,
      "outputs": []
    },
    {
      "cell_type": "code",
      "source": [
        "# Resampling the data\n",
        "loras = pyl.LORAS()\n",
        "X_train, y_train = loras.fit_resample(X_train_initial, y_train_initial)"
      ],
      "metadata": {
        "id": "vF94ikgaEpy0"
      },
      "execution_count": 30,
      "outputs": []
    },
    {
      "cell_type": "markdown",
      "source": [
        "## Model Development"
      ],
      "metadata": {
        "id": "5reZAsPAVjD1"
      }
    },
    {
      "cell_type": "markdown",
      "source": [
        "### Feature Importance"
      ],
      "metadata": {
        "id": "SjeFaTrSWopf"
      }
    },
    {
      "cell_type": "code",
      "source": [
        "# create the classifier with n_estimators = 100\n",
        "clf = XGBClassifier(n_estimators=100, random_state=42)\n",
        "clf.fit(X_train, y_train)\n",
        "feature_scores = pd.Series(clf.feature_importances_, index=X_train.columns).sort_values(ascending=False)\n",
        "print(feature_scores)"
      ],
      "metadata": {
        "id": "uQapRgffViON",
        "outputId": "9d7fb3ac-7dbd-418c-b1e2-86c72ebcbcad",
        "colab": {
          "base_uri": "https://localhost:8080/"
        }
      },
      "execution_count": 31,
      "outputs": [
        {
          "output_type": "stream",
          "name": "stdout",
          "text": [
            "01/10/2014    0.241834\n",
            "01/11/2014    0.092332\n",
            "01/08/2014    0.069994\n",
            "01/03/2014    0.069463\n",
            "01/01/2014    0.067181\n",
            "01/12/2014    0.064861\n",
            "01/09/2014    0.059617\n",
            "01/14/2014    0.057012\n",
            "01/05/2014    0.050438\n",
            "01/04/2014    0.049271\n",
            "01/07/2014    0.047938\n",
            "01/13/2014    0.046157\n",
            "01/02/2014    0.044555\n",
            "01/06/2014    0.039348\n",
            "dtype: float32\n"
          ]
        }
      ]
    },
    {
      "cell_type": "markdown",
      "source": [
        "#### JayaOptmizer\n",
        "\n",
        "Predictive modelling can be improved with the help of the JAYA Boost algorithm. The idea of 'teaching and learning' in nature was the inspiration for the JAYA optimization method. When used with boosting methods, it makes models more flexible. JAYA Boost can help optimize hyperparameters, improve model performance, and fine-tune the model's ability to pick up on subtle trends in data about how much energy is used, how the grid works, or how to spot anomalies. The Algorithm could be summed up as this\n",
        "\n",
        "1. Initialise population size(50),number of variables (here we use 7) and termination criterion (find best within the range).\n",
        "2. Identify best and worst solutions in the population.\n",
        "3. Modify solutions based on best and worst (converge towrds the best away from worst).\n",
        "4. Either find a better solution or keep the current one Until the termination criterion is met."
      ],
      "metadata": {
        "id": "KsFWGSPoXChR"
      }
    },
    {
      "cell_type": "code",
      "source": [
        "from sklearn.utils import check_random_state\n",
        "# we use a python implentation of the jaya optimizing algorithm found here\n",
        "# https://github.com/sorend/fylearn/blob/main/fylearn/jaya.py\n",
        "class JayaOptimizer(object):\n",
        "    \"\"\"\n",
        "    Jaya Algorithm is a population based optimizer which optimizes a function based on\n",
        "    best and worst solutions in the population:\n",
        "\n",
        "    1. Move towards the best solution\n",
        "\n",
        "    2. Avoid the worst solution\n",
        "\n",
        "    \"\"\"\n",
        "    def __init__(self, f, lower_bound, upper_bound,\n",
        "                 n_population=50, random_state=None):\n",
        "        \"\"\"\n",
        "        Constructor\n",
        "\n",
        "        Parameters:\n",
        "        -----------\n",
        "\n",
        "        f : function to minimize.\n",
        "\n",
        "        lower_bound : Vector with lower bound of the search space.\n",
        "\n",
        "        upper_bound : Vector with upper bound of the search space.\n",
        "\n",
        "        n_population : Number of individuals in the population [Default: 50].\n",
        "\n",
        "        random_state : Specific random state to use [Default: None]\n",
        "        \"\"\"\n",
        "        self.f = f\n",
        "        self.lower_bound = lower_bound\n",
        "        self.upper_bound = upper_bound\n",
        "        self.pidx = range(n_population)\n",
        "        self.m = lower_bound.shape[0]  # columns\n",
        "        self.random_state = check_random_state(random_state)\n",
        "\n",
        "        # init population and fitness\n",
        "        self.population_ = self.random_state.rand(n_population, self.m) * (upper_bound - lower_bound) + lower_bound\n",
        "        self.fitness_ = np.apply_along_axis(self.f, 1, self.population_)\n",
        "        # init bestidx\n",
        "        self.bestidx_ = np.argmin(self.fitness_)\n",
        "        self.bestcosts_ = [ self.fitness_[self.bestidx_] ]\n",
        "\n",
        "    def best(self):\n",
        "        \"\"\"\n",
        "        Returns the best solution and fitness at current epoch\n",
        "        \"\"\"\n",
        "        return self.population_[self.bestidx_], self.fitness_[self.bestidx_]\n",
        "\n",
        "    def next(self):\n",
        "        \"\"\"\n",
        "        One iteration of Jaya Algorithm\n",
        "        \"\"\"\n",
        "        rs = self.random_state\n",
        "\n",
        "        # find best and worst\n",
        "        fitness_sorted = np.argsort(self.fitness_)\n",
        "        best, worst = self.population_[fitness_sorted[0]], self.population_[fitness_sorted[-1]]\n",
        "\n",
        "         # update using best and worst\n",
        "        for i in self.pidx:\n",
        "            r1_i, r2_i = rs.rand(self.m), rs.rand(self.m)  # random modification vectors\n",
        "\n",
        "            # make new solution\n",
        "            new_solution = (\n",
        "                self.population_[i] +                            # old position\n",
        "                (r1_i * (best - np.abs(self.population_[i]))) -  # move towards best solution\n",
        "                (r2_i * (worst - np.abs(self.population_[i])))   # and avoid worst\n",
        "            )\n",
        "\n",
        "            # bound\n",
        "            new_solution = np.minimum(self.upper_bound, np.maximum(self.lower_bound, new_solution))\n",
        "\n",
        "            new_fitness = self.f(new_solution)\n",
        "\n",
        "            if new_fitness < self.fitness_[i]:\n",
        "                self.population_[i] = new_solution\n",
        "                self.fitness_[i] = new_fitness\n",
        "\n",
        "        self.bestidx_ = np.argmin(self.fitness_)  # update details\n",
        "        self.bestcosts_.append(self.fitness_[self.bestidx_])"
      ],
      "metadata": {
        "id": "VJho8xMVXQxF"
      },
      "execution_count": 32,
      "outputs": []
    },
    {
      "cell_type": "markdown",
      "source": [
        "### Hyperparameter tuning with jaya\n",
        "\n",
        "Instead of directly optimizing all the parameters of the xgboost, we will separate the optimization of the most important hyperparameter whcih is the learning rate from the others, the learning rate will be optimized using the baysian minimization, the best learning rate will then be saved and the others are going to be optimized using jaya."
      ],
      "metadata": {
        "id": "-H_A8tWsWfT_"
      }
    },
    {
      "cell_type": "code",
      "source": [
        "#helper function\n",
        "def create_param(params):\n",
        "    return {\n",
        "    'n_estimators': int(params[0]),\n",
        "    'max_depth': int(params[1]),\n",
        "    'learning_rate': params[2],\n",
        "    'min_child_weight': int(params[3]),\n",
        "    'gamma': params[4],\n",
        "    'subsample': params[5],\n",
        "    'colsample_bytree': params[6],\n",
        "}"
      ],
      "metadata": {
        "id": "w3sMp2NtUJ72"
      },
      "execution_count": 33,
      "outputs": []
    },
    {
      "cell_type": "code",
      "source": [
        "# Use Jara optimization to find the best XGBoost parameters\n",
        "def optimize_xgboost(params):\n",
        "    param_space = create_param(params)\n",
        "    model = XGBClassifier(**param_space, random_state=42, n_jobs=-1)\n",
        "    model.fit(X_train, y_train)\n",
        "    y_pred = model.predict(X_test)\n",
        "    return -f1_score(y_test, y_pred)  # Minimize F1 score (negative for optimization)"
      ],
      "metadata": {
        "id": "PPC0u44UX6kF"
      },
      "execution_count": 34,
      "outputs": []
    },
    {
      "cell_type": "code",
      "source": [
        "param_space_learning_rate = {\n",
        "    'learning_rate': (0.001, 0.2),\n",
        "}"
      ],
      "metadata": {
        "id": "eMq9Nm13YKnw"
      },
      "execution_count": 35,
      "outputs": []
    },
    {
      "cell_type": "code",
      "source": [
        "from skopt import BayesSearchCV\n",
        "from sklearn.metrics import make_scorer\n",
        "\n",
        "neg_f1_scorer = make_scorer(f1_score, greater_is_better=True)\n",
        "optimizer = BayesSearchCV(\n",
        "    XGBClassifier(),\n",
        "    param_space_learning_rate,\n",
        "    n_iter=50,\n",
        "    cv=5,\n",
        "    n_jobs=-1,\n",
        "    verbose=1,\n",
        "    scoring=neg_f1_scorer  # Use an appropriate metric for your problem\n",
        ")\n",
        "_= optimizer.fit(X_train, y_train)"
      ],
      "metadata": {
        "id": "Is1Jaj-NYOql",
        "outputId": "bc659c14-d0b1-41cb-e116-6dc209b859a1",
        "colab": {
          "base_uri": "https://localhost:8080/"
        }
      },
      "execution_count": 36,
      "outputs": [
        {
          "output_type": "stream",
          "name": "stdout",
          "text": [
            "Fitting 5 folds for each of 1 candidates, totalling 5 fits\n",
            "Fitting 5 folds for each of 1 candidates, totalling 5 fits\n",
            "Fitting 5 folds for each of 1 candidates, totalling 5 fits\n",
            "Fitting 5 folds for each of 1 candidates, totalling 5 fits\n",
            "Fitting 5 folds for each of 1 candidates, totalling 5 fits\n",
            "Fitting 5 folds for each of 1 candidates, totalling 5 fits\n",
            "Fitting 5 folds for each of 1 candidates, totalling 5 fits\n",
            "Fitting 5 folds for each of 1 candidates, totalling 5 fits\n",
            "Fitting 5 folds for each of 1 candidates, totalling 5 fits\n",
            "Fitting 5 folds for each of 1 candidates, totalling 5 fits\n",
            "Fitting 5 folds for each of 1 candidates, totalling 5 fits\n",
            "Fitting 5 folds for each of 1 candidates, totalling 5 fits\n",
            "Fitting 5 folds for each of 1 candidates, totalling 5 fits\n",
            "Fitting 5 folds for each of 1 candidates, totalling 5 fits\n",
            "Fitting 5 folds for each of 1 candidates, totalling 5 fits\n",
            "Fitting 5 folds for each of 1 candidates, totalling 5 fits\n",
            "Fitting 5 folds for each of 1 candidates, totalling 5 fits\n",
            "Fitting 5 folds for each of 1 candidates, totalling 5 fits\n",
            "Fitting 5 folds for each of 1 candidates, totalling 5 fits\n",
            "Fitting 5 folds for each of 1 candidates, totalling 5 fits\n",
            "Fitting 5 folds for each of 1 candidates, totalling 5 fits\n",
            "Fitting 5 folds for each of 1 candidates, totalling 5 fits\n",
            "Fitting 5 folds for each of 1 candidates, totalling 5 fits\n",
            "Fitting 5 folds for each of 1 candidates, totalling 5 fits\n",
            "Fitting 5 folds for each of 1 candidates, totalling 5 fits\n",
            "Fitting 5 folds for each of 1 candidates, totalling 5 fits\n",
            "Fitting 5 folds for each of 1 candidates, totalling 5 fits\n",
            "Fitting 5 folds for each of 1 candidates, totalling 5 fits\n",
            "Fitting 5 folds for each of 1 candidates, totalling 5 fits\n",
            "Fitting 5 folds for each of 1 candidates, totalling 5 fits\n",
            "Fitting 5 folds for each of 1 candidates, totalling 5 fits\n",
            "Fitting 5 folds for each of 1 candidates, totalling 5 fits\n",
            "Fitting 5 folds for each of 1 candidates, totalling 5 fits\n",
            "Fitting 5 folds for each of 1 candidates, totalling 5 fits\n",
            "Fitting 5 folds for each of 1 candidates, totalling 5 fits\n",
            "Fitting 5 folds for each of 1 candidates, totalling 5 fits\n",
            "Fitting 5 folds for each of 1 candidates, totalling 5 fits\n",
            "Fitting 5 folds for each of 1 candidates, totalling 5 fits\n",
            "Fitting 5 folds for each of 1 candidates, totalling 5 fits\n",
            "Fitting 5 folds for each of 1 candidates, totalling 5 fits\n",
            "Fitting 5 folds for each of 1 candidates, totalling 5 fits\n",
            "Fitting 5 folds for each of 1 candidates, totalling 5 fits\n",
            "Fitting 5 folds for each of 1 candidates, totalling 5 fits\n",
            "Fitting 5 folds for each of 1 candidates, totalling 5 fits\n",
            "Fitting 5 folds for each of 1 candidates, totalling 5 fits\n",
            "Fitting 5 folds for each of 1 candidates, totalling 5 fits\n",
            "Fitting 5 folds for each of 1 candidates, totalling 5 fits\n",
            "Fitting 5 folds for each of 1 candidates, totalling 5 fits\n",
            "Fitting 5 folds for each of 1 candidates, totalling 5 fits\n",
            "Fitting 5 folds for each of 1 candidates, totalling 5 fits\n"
          ]
        }
      ]
    },
    {
      "cell_type": "code",
      "source": [
        "best_params = optimizer.best_params_\n",
        "best_learning_rate=best_params['learning_rate']\n",
        "print(best_learning_rate)"
      ],
      "metadata": {
        "id": "qgAarr1eYWfB",
        "outputId": "3dfba051-60a9-4967-a7a5-63f5d92f232b",
        "colab": {
          "base_uri": "https://localhost:8080/"
        }
      },
      "execution_count": 37,
      "outputs": [
        {
          "output_type": "stream",
          "name": "stdout",
          "text": [
            "0.1999075468794162\n"
          ]
        }
      ]
    },
    {
      "cell_type": "code",
      "source": [
        "param_space = {\n",
        "    'n_estimators': (50, 200),\n",
        "    'max_depth': (3, 10),\n",
        "    'learning_rate': (best_learning_rate,best_learning_rate),\n",
        "    'min_child_weight': (1, 10),\n",
        "    'gamma': (0, 1),\n",
        "    'subsample': (0.5, 1),\n",
        "    'colsample_bytree': (0.5, 1),\n",
        "}"
      ],
      "metadata": {
        "id": "xmo9nCzue72D"
      },
      "execution_count": 38,
      "outputs": []
    },
    {
      "cell_type": "code",
      "source": [
        "#the implementation of the jaya requires a Numpy array\n",
        "\n",
        "lower_bound = np.array([value[0] for key, value in param_space.items()])\n",
        "upper_bound = np.array([value[1] for key, value in param_space.items()])\n",
        "optimizer = JayaOptimizer(optimize_xgboost, upper_bound,lower_bound,random_state=42)\n",
        "best_params = optimizer.best()[0]\n",
        "print(best_params)"
      ],
      "metadata": {
        "id": "9VYSzRDYfI_Q",
        "outputId": "78a52284-3a40-49cb-b193-aa7cff194b9a",
        "colab": {
          "base_uri": "https://localhost:8080/"
        }
      },
      "execution_count": 39,
      "outputs": [
        {
          "output_type": "stream",
          "name": "stdout",
          "text": [
            "[124.59814652   9.63964874   0.19990755   1.82560703   0.76043811\n",
            "   0.92755256   0.75527362]\n"
          ]
        }
      ]
    },
    {
      "cell_type": "code",
      "source": [
        "# Train the XGBoost classifier on the optimized parameters\n",
        "#the best recorded params during the experiment were\n",
        "best_params = create_param(best_params)\n",
        "xgb_classifier = XGBClassifier(**best_params, random_state=42, n_jobs=-1)\n",
        "xgb_classifier.fit(X_train, y_train)"
      ],
      "metadata": {
        "id": "FH_RJ5jNfS4_",
        "outputId": "ccc584c6-c3b5-4ac5-cf8c-2f13008789ce",
        "colab": {
          "base_uri": "https://localhost:8080/",
          "height": 252
        }
      },
      "execution_count": 40,
      "outputs": [
        {
          "output_type": "execute_result",
          "data": {
            "text/plain": [
              "XGBClassifier(base_score=None, booster=None, callbacks=None,\n",
              "              colsample_bylevel=None, colsample_bynode=None,\n",
              "              colsample_bytree=0.7552736198612184, device=None,\n",
              "              early_stopping_rounds=None, enable_categorical=False,\n",
              "              eval_metric=None, feature_types=None, gamma=0.7604381093330276,\n",
              "              grow_policy=None, importance_type=None,\n",
              "              interaction_constraints=None, learning_rate=0.1999075468794162,\n",
              "              max_bin=None, max_cat_threshold=None, max_cat_to_onehot=None,\n",
              "              max_delta_step=None, max_depth=9, max_leaves=None,\n",
              "              min_child_weight=1, missing=nan, monotone_constraints=None,\n",
              "              multi_strategy=None, n_estimators=124, n_jobs=-1,\n",
              "              num_parallel_tree=None, random_state=42, ...)"
            ],
            "text/html": [
              "<style>#sk-container-id-1 {color: black;background-color: white;}#sk-container-id-1 pre{padding: 0;}#sk-container-id-1 div.sk-toggleable {background-color: white;}#sk-container-id-1 label.sk-toggleable__label {cursor: pointer;display: block;width: 100%;margin-bottom: 0;padding: 0.3em;box-sizing: border-box;text-align: center;}#sk-container-id-1 label.sk-toggleable__label-arrow:before {content: \"▸\";float: left;margin-right: 0.25em;color: #696969;}#sk-container-id-1 label.sk-toggleable__label-arrow:hover:before {color: black;}#sk-container-id-1 div.sk-estimator:hover label.sk-toggleable__label-arrow:before {color: black;}#sk-container-id-1 div.sk-toggleable__content {max-height: 0;max-width: 0;overflow: hidden;text-align: left;background-color: #f0f8ff;}#sk-container-id-1 div.sk-toggleable__content pre {margin: 0.2em;color: black;border-radius: 0.25em;background-color: #f0f8ff;}#sk-container-id-1 input.sk-toggleable__control:checked~div.sk-toggleable__content {max-height: 200px;max-width: 100%;overflow: auto;}#sk-container-id-1 input.sk-toggleable__control:checked~label.sk-toggleable__label-arrow:before {content: \"▾\";}#sk-container-id-1 div.sk-estimator input.sk-toggleable__control:checked~label.sk-toggleable__label {background-color: #d4ebff;}#sk-container-id-1 div.sk-label input.sk-toggleable__control:checked~label.sk-toggleable__label {background-color: #d4ebff;}#sk-container-id-1 input.sk-hidden--visually {border: 0;clip: rect(1px 1px 1px 1px);clip: rect(1px, 1px, 1px, 1px);height: 1px;margin: -1px;overflow: hidden;padding: 0;position: absolute;width: 1px;}#sk-container-id-1 div.sk-estimator {font-family: monospace;background-color: #f0f8ff;border: 1px dotted black;border-radius: 0.25em;box-sizing: border-box;margin-bottom: 0.5em;}#sk-container-id-1 div.sk-estimator:hover {background-color: #d4ebff;}#sk-container-id-1 div.sk-parallel-item::after {content: \"\";width: 100%;border-bottom: 1px solid gray;flex-grow: 1;}#sk-container-id-1 div.sk-label:hover label.sk-toggleable__label {background-color: #d4ebff;}#sk-container-id-1 div.sk-serial::before {content: \"\";position: absolute;border-left: 1px solid gray;box-sizing: border-box;top: 0;bottom: 0;left: 50%;z-index: 0;}#sk-container-id-1 div.sk-serial {display: flex;flex-direction: column;align-items: center;background-color: white;padding-right: 0.2em;padding-left: 0.2em;position: relative;}#sk-container-id-1 div.sk-item {position: relative;z-index: 1;}#sk-container-id-1 div.sk-parallel {display: flex;align-items: stretch;justify-content: center;background-color: white;position: relative;}#sk-container-id-1 div.sk-item::before, #sk-container-id-1 div.sk-parallel-item::before {content: \"\";position: absolute;border-left: 1px solid gray;box-sizing: border-box;top: 0;bottom: 0;left: 50%;z-index: -1;}#sk-container-id-1 div.sk-parallel-item {display: flex;flex-direction: column;z-index: 1;position: relative;background-color: white;}#sk-container-id-1 div.sk-parallel-item:first-child::after {align-self: flex-end;width: 50%;}#sk-container-id-1 div.sk-parallel-item:last-child::after {align-self: flex-start;width: 50%;}#sk-container-id-1 div.sk-parallel-item:only-child::after {width: 0;}#sk-container-id-1 div.sk-dashed-wrapped {border: 1px dashed gray;margin: 0 0.4em 0.5em 0.4em;box-sizing: border-box;padding-bottom: 0.4em;background-color: white;}#sk-container-id-1 div.sk-label label {font-family: monospace;font-weight: bold;display: inline-block;line-height: 1.2em;}#sk-container-id-1 div.sk-label-container {text-align: center;}#sk-container-id-1 div.sk-container {/* jupyter's `normalize.less` sets `[hidden] { display: none; }` but bootstrap.min.css set `[hidden] { display: none !important; }` so we also need the `!important` here to be able to override the default hidden behavior on the sphinx rendered scikit-learn.org. See: https://github.com/scikit-learn/scikit-learn/issues/21755 */display: inline-block !important;position: relative;}#sk-container-id-1 div.sk-text-repr-fallback {display: none;}</style><div id=\"sk-container-id-1\" class=\"sk-top-container\"><div class=\"sk-text-repr-fallback\"><pre>XGBClassifier(base_score=None, booster=None, callbacks=None,\n",
              "              colsample_bylevel=None, colsample_bynode=None,\n",
              "              colsample_bytree=0.7552736198612184, device=None,\n",
              "              early_stopping_rounds=None, enable_categorical=False,\n",
              "              eval_metric=None, feature_types=None, gamma=0.7604381093330276,\n",
              "              grow_policy=None, importance_type=None,\n",
              "              interaction_constraints=None, learning_rate=0.1999075468794162,\n",
              "              max_bin=None, max_cat_threshold=None, max_cat_to_onehot=None,\n",
              "              max_delta_step=None, max_depth=9, max_leaves=None,\n",
              "              min_child_weight=1, missing=nan, monotone_constraints=None,\n",
              "              multi_strategy=None, n_estimators=124, n_jobs=-1,\n",
              "              num_parallel_tree=None, random_state=42, ...)</pre><b>In a Jupyter environment, please rerun this cell to show the HTML representation or trust the notebook. <br />On GitHub, the HTML representation is unable to render, please try loading this page with nbviewer.org.</b></div><div class=\"sk-container\" hidden><div class=\"sk-item\"><div class=\"sk-estimator sk-toggleable\"><input class=\"sk-toggleable__control sk-hidden--visually\" id=\"sk-estimator-id-1\" type=\"checkbox\" checked><label for=\"sk-estimator-id-1\" class=\"sk-toggleable__label sk-toggleable__label-arrow\">XGBClassifier</label><div class=\"sk-toggleable__content\"><pre>XGBClassifier(base_score=None, booster=None, callbacks=None,\n",
              "              colsample_bylevel=None, colsample_bynode=None,\n",
              "              colsample_bytree=0.7552736198612184, device=None,\n",
              "              early_stopping_rounds=None, enable_categorical=False,\n",
              "              eval_metric=None, feature_types=None, gamma=0.7604381093330276,\n",
              "              grow_policy=None, importance_type=None,\n",
              "              interaction_constraints=None, learning_rate=0.1999075468794162,\n",
              "              max_bin=None, max_cat_threshold=None, max_cat_to_onehot=None,\n",
              "              max_delta_step=None, max_depth=9, max_leaves=None,\n",
              "              min_child_weight=1, missing=nan, monotone_constraints=None,\n",
              "              multi_strategy=None, n_estimators=124, n_jobs=-1,\n",
              "              num_parallel_tree=None, random_state=42, ...)</pre></div></div></div></div></div>"
            ]
          },
          "metadata": {},
          "execution_count": 40
        }
      ]
    },
    {
      "cell_type": "code",
      "source": [
        "# convert initial datset to DMatrix\n",
        "dtrain_initial = xgb.DMatrix(X_train_initial, label=y_train_initial)\n",
        "dtest = xgb.DMatrix(X_test)"
      ],
      "metadata": {
        "id": "obbA2vJjZey8"
      },
      "execution_count": 44,
      "outputs": []
    },
    {
      "cell_type": "code",
      "source": [
        "booster = xgb_classifier.get_booster()"
      ],
      "metadata": {
        "id": "e_oLTmLZayyq"
      },
      "execution_count": 45,
      "outputs": []
    },
    {
      "source": [
        "for df in dfs:\n",
        "    X, y = df.iloc[:, :-1], df['FLAG']\n",
        "    # Resampling the data\n",
        "    loras = pyl.LORAS()\n",
        "    X_train_new, y_train_new = loras.fit_resample(X, y)\n",
        "\n",
        "    # Align features of the new data with the initial training data\n",
        "    X_train_new = X_train_new.reindex(columns=X_train_initial.columns, fill_value=0)\n",
        "\n",
        "    dtrain_new = xgb.DMatrix(X_train_new, label=y_train_new)\n",
        "    booster.update(dtrain_new, 0)\n",
        "\n",
        "booster.save_model('booster.model')"
      ],
      "cell_type": "code",
      "metadata": {
        "id": "qyNq0tDHeH5N",
        "outputId": "1ba2d483-b0d0-4bb3-ec4d-0f86c679a82c",
        "colab": {
          "base_uri": "https://localhost:8080/"
        }
      },
      "execution_count": 53,
      "outputs": [
        {
          "output_type": "stream",
          "name": "stderr",
          "text": [
            "/usr/local/lib/python3.10/dist-packages/xgboost/core.py:160: UserWarning: [18:50:24] WARNING: /workspace/src/c_api/c_api.cc:1240: Saving into deprecated binary model format, please consider using `json` or `ubj`. Model format will default to JSON in XGBoost 2.2 if not specified.\n",
            "  warnings.warn(smsg, UserWarning)\n"
          ]
        }
      ]
    },
    {
      "cell_type": "code",
      "source": [
        "xgb_classifier._Booster = booster"
      ],
      "metadata": {
        "id": "sJ7P5OFMepMo"
      },
      "execution_count": 54,
      "outputs": []
    },
    {
      "cell_type": "code",
      "source": [
        "# Make predictions on the test set\n",
        "y_pred = xgb_classifier.predict(X_test)"
      ],
      "metadata": {
        "id": "RTMERKDwfZqm"
      },
      "execution_count": 55,
      "outputs": []
    },
    {
      "cell_type": "markdown",
      "source": [
        "## Model Evaluation"
      ],
      "metadata": {
        "id": "BT_CTOfcffyE"
      }
    },
    {
      "cell_type": "code",
      "source": [
        "# Calculate F1 score and AUC\n",
        "f1 = f1_score(y_test, y_pred)\n",
        "roc_auc = roc_auc_score(y_test, xgb_classifier.predict_proba(X_test)[:, 1])"
      ],
      "metadata": {
        "id": "SWYd9BUCfdjB"
      },
      "execution_count": 56,
      "outputs": []
    },
    {
      "cell_type": "code",
      "source": [
        "# Generate a classification report\n",
        "class_report = classification_report(y_test, y_pred)"
      ],
      "metadata": {
        "id": "fgJj-D9Oflq9"
      },
      "execution_count": 57,
      "outputs": []
    },
    {
      "cell_type": "code",
      "source": [
        "# Print results\n",
        "print(\"Optimized XGBoost Parameters:\")\n",
        "print(best_params)\n",
        "print(\"F1 Score:\", f1)\n",
        "print(\"AUC:\", roc_auc)\n",
        "print(\"Classification Report:\\n\", class_report)"
      ],
      "metadata": {
        "id": "7Hjxg5HkfoEV",
        "outputId": "aac1ca4e-22da-480b-89ca-d3d4f893f6e2",
        "colab": {
          "base_uri": "https://localhost:8080/"
        }
      },
      "execution_count": 58,
      "outputs": [
        {
          "output_type": "stream",
          "name": "stdout",
          "text": [
            "Optimized XGBoost Parameters:\n",
            "{'n_estimators': 124, 'max_depth': 9, 'learning_rate': 0.1999075468794162, 'min_child_weight': 1, 'gamma': 0.7604381093330276, 'subsample': 0.9275525639543885, 'colsample_bytree': 0.7552736198612184}\n",
            "F1 Score: 0.20379965457685664\n",
            "AUC: 0.6788819095477387\n",
            "Classification Report:\n",
            "               precision    recall  f1-score   support\n",
            "\n",
            "         0.0       0.95      0.65      0.77      1194\n",
            "         1.0       0.12      0.59      0.20       100\n",
            "\n",
            "    accuracy                           0.64      1294\n",
            "   macro avg       0.54      0.62      0.49      1294\n",
            "weighted avg       0.89      0.64      0.73      1294\n",
            "\n"
          ]
        }
      ]
    },
    {
      "cell_type": "code",
      "source": [
        "from sklearn.metrics import confusion_matrix\n",
        "cf_matrix = confusion_matrix(y_test, y_pred)\n",
        "print(cf_matrix)\n",
        "labels = ['True Neg\\n'+str(cf_matrix[0][0]),'False Pos\\n'+str(cf_matrix[0][1]),'False Neg\\n'+str(cf_matrix[1][0]),'True Pos\\n'+str(cf_matrix[1][1])]\n",
        "labels = np.asarray(labels).reshape(2,2)\n",
        "sns.heatmap(cf_matrix, annot=labels, fmt='', cmap='Blues')"
      ],
      "metadata": {
        "id": "C5pG75pyfmiZ",
        "outputId": "714e6aa3-b73b-44dd-f1ee-4c1cf08b41eb",
        "colab": {
          "base_uri": "https://localhost:8080/",
          "height": 482
        }
      },
      "execution_count": 59,
      "outputs": [
        {
          "output_type": "stream",
          "name": "stdout",
          "text": [
            "[[774 420]\n",
            " [ 41  59]]\n"
          ]
        },
        {
          "output_type": "execute_result",
          "data": {
            "text/plain": [
              "<Axes: >"
            ]
          },
          "metadata": {},
          "execution_count": 59
        },
        {
          "output_type": "display_data",
          "data": {
            "text/plain": [
              "<Figure size 640x480 with 2 Axes>"
            ],
            "image/png": "[encoded data removed]"
          },
          "metadata": {}
        }
      ]
    },
    {
      "cell_type": "code",
      "source": [
        "fpr_xg, tpr_xg, _ = roc_curve(y_test, xgb_classifier.predict_proba(X_test)[:, 1])\n",
        "plt.plot(fpr_xg, tpr_xg, label='JayaBoost')\n",
        "plt.xlabel('False Positive Rate')\n",
        "plt.ylabel('True Positive Rate')\n",
        "plt.title('ROC Curve ')\n",
        "plt.legend()\n",
        "plt.show()"
      ],
      "metadata": {
        "id": "5SNTEbE-fsQy",
        "outputId": "5e327654-cb80-403f-acb8-80b4e3c9e95b",
        "colab": {
          "base_uri": "https://localhost:8080/",
          "height": 472
        }
      },
      "execution_count": 60,
      "outputs": [
        {
          "output_type": "display_data",
          "data": {
            "text/plain": [
              "<Figure size 640x480 with 1 Axes>"
            ],
            "image/png": "[encoded data removed]"
          },
          "metadata": {}
        }
      ]
    },
    {
      "cell_type": "markdown",
      "source": [
        "## Save model\n"
      ],
      "metadata": {
        "id": "SKTjSGlxfKwq"
      }
    },
    {
      "cell_type": "code",
      "source": [
        "#save model\n",
        "xgb_classifier.save_model('xgb_classifier.model')"
      ],
      "metadata": {
        "colab": {
          "base_uri": "https://localhost:8080/"
        },
        "id": "855mSvqjVtyz",
        "outputId": "b607fc68-6495-4416-b8d4-28046a3d3cd0"
      },
      "execution_count": 61,
      "outputs": [
        {
          "output_type": "stream",
          "name": "stderr",
          "text": [
            "/usr/local/lib/python3.10/dist-packages/xgboost/core.py:160: UserWarning: [18:53:35] WARNING: /workspace/src/c_api/c_api.cc:1240: Saving into deprecated binary model format, please consider using `json` or `ubj`. Model format will default to JSON in XGBoost 2.2 if not specified.\n",
            "  warnings.warn(smsg, UserWarning)\n"
          ]
        }
      ]
    },
    {
      "cell_type": "code",
      "source": [],
      "metadata": {
        "id": "3nieUUzOfgbs"
      },
      "execution_count": null,
      "outputs": []
    }
  ],
  "metadata": {
    "language_info": {
      "name": "python"
    },
    "colab": {
      "provenance": []
    },
    "kernelspec": {
      "name": "python3",
      "display_name": "Python 3"
    }
  },
  "nbformat": 4,
  "nbformat_minor": 0
}